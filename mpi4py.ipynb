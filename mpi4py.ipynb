{
 "cells": [
  {
   "cell_type": "markdown",
   "id": "c4dc13e3-55e4-4a66-a992-f2315199c6c2",
   "metadata": {},
   "source": [
    "# UNDER CONSTRUCTION :-D"
   ]
  },
  {
   "cell_type": "code",
   "execution_count": null,
   "id": "e7a4e228-30cf-4910-a076-a5cb93f52343",
   "metadata": {},
   "outputs": [],
   "source": [
    "# time execution of the whole cell - %time will time only the next line\n",
    "%%time\n",
    "\n",
    "import time\n",
    "time.sleep(5)"
   ]
  },
  {
   "cell_type": "code",
   "execution_count": 20,
   "id": "17f1a228-b432-440d-8b79-d988fc4dbf53",
   "metadata": {},
   "outputs": [
    {
     "name": "stdout",
     "output_type": "stream",
     "text": [
      "[[0.  0.5 1. ]\n",
      " [0.  0.5 1. ]]\n",
      "[[0. 0. 0.]\n",
      " [1. 1. 1.]]\n"
     ]
    }
   ],
   "source": [
    "# generate a 2D grid/mesh\n",
    "import numpy as np\n",
    "\n",
    "nx, ny = (3, 2)\n",
    "\n",
    "x = np.linspace(0, 1, nx)\n",
    "y = np.linspace(0, 1, ny)\n",
    "\n",
    "xv, yv = np.meshgrid(x, y)\n",
    "\n",
    "print(xv)\n",
    "print(yv)\n",
    "\n",
    "# yes, meshgrid is a bit confusing, see https://www.sharpsightlabs.com/blog/numpy-meshgrid/"
   ]
  },
  {
   "cell_type": "code",
   "execution_count": 24,
   "id": "2dd86356-b786-4b51-bef8-c4f3f31dea80",
   "metadata": {},
   "outputs": [
    {
     "data": {
      "image/png": "[encoded data removed]",
      "text/plain": [
       "<Figure size 640x480 with 1 Axes>"
      ]
     },
     "metadata": {},
     "output_type": "display_data"
    }
   ],
   "source": [
    "# visualize it\n",
    "import matplotlib.pyplot as plt\n",
    "\n",
    "plt.plot(xv, yv, marker='o', color='k', linestyle='none')\n",
    "plt.show()"
   ]
  },
  {
   "cell_type": "code",
   "execution_count": 29,
   "id": "d15cb8b4-2bd4-4836-8692-d21e2612fd05",
   "metadata": {},
   "outputs": [
    {
     "name": "stdout",
     "output_type": "stream",
     "text": [
      "x: 0.0, y: 0.0\n",
      "x: 0.0, y: 1.0\n",
      "x: 0.5, y: 0.0\n",
      "x: 0.5, y: 1.0\n",
      "x: 1.0, y: 0.0\n",
      "x: 1.0, y: 1.0\n"
     ]
    }
   ],
   "source": [
    "# loop through the grid\n",
    "\n",
    "for i in range(nx):\n",
    "    for j in range(ny):\n",
    "        # treat xv[j,i], yv[j,i]\n",
    "        print(\"x: {}, y: {}\".format(xv[j,i], yv[j,i]))"
   ]
  },
  {
   "cell_type": "code",
   "execution_count": null,
   "id": "75b30a85-7ae2-4967-9d0d-2d75f9fe1576",
   "metadata": {},
   "outputs": [],
   "source": [
    "# TODO: CONT NOTEBOOK"
   ]
  }
 ],
 "metadata": {
  "kernelspec": {
   "display_name": "Python [conda env:production-08-2023] *",
   "language": "python",
   "name": "conda-env-production-08-2023-py"
  },
  "language_info": {
   "codemirror_mode": {
    "name": "ipython",
    "version": 3
   },
   "file_extension": ".py",
   "mimetype": "text/x-python",
   "name": "python",
   "nbconvert_exporter": "python",
   "pygments_lexer": "ipython3",
   "version": "3.9.13"
  }
 },
 "nbformat": 4,
 "nbformat_minor": 5
}
